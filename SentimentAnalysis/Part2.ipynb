{
  "nbformat": 4,
  "nbformat_minor": 0,
  "metadata": {
    "colab": {
      "provenance": []
    },
    "kernelspec": {
      "name": "python3",
      "display_name": "Python 3"
    },
    "language_info": {
      "name": "python"
    }
  },
  "cells": [
    {
      "cell_type": "markdown",
      "source": [
        "<h3 align=right style=\"line-height:200%;font-family:mitra;color: #0099cc\">\n",
        "<font face=\"mitra\">بخش ۲) میزان رضایت از یک جنبه‌ی مشخص</font>\n",
        "</h3>"
      ],
      "metadata": {
        "id": "JTBcqrDGS3BE"
      }
    },
    {
      "cell_type": "code",
      "source": [
        "import gensim.downloader\n",
        "print(list(gensim.downloader.info()['models'].keys()))"
      ],
      "metadata": {
        "colab": {
          "base_uri": "https://localhost:8080/"
        },
        "id": "jR_oT4ZrS3gD",
        "outputId": "1233d3c2-9873-494d-fc9a-da5cfe9195d0"
      },
      "execution_count": 2,
      "outputs": [
        {
          "output_type": "stream",
          "name": "stdout",
          "text": [
            "['fasttext-wiki-news-subwords-300', 'conceptnet-numberbatch-17-06-300', 'word2vec-ruscorpora-300', 'word2vec-google-news-300', 'glove-wiki-gigaword-50', 'glove-wiki-gigaword-100', 'glove-wiki-gigaword-200', 'glove-wiki-gigaword-300', 'glove-twitter-25', 'glove-twitter-50', 'glove-twitter-100', 'glove-twitter-200', '__testing_word2vec-matrix-synopsis']\n"
          ]
        }
      ]
    },
    {
      "cell_type": "code",
      "source": [
        "sample = gensim.downloader.load('word2vec-google-news-300')\n",
        "sample.most_similar('guarantee')"
      ],
      "metadata": {
        "colab": {
          "base_uri": "https://localhost:8080/"
        },
        "id": "zbTIoqAFS9WB",
        "outputId": "c8058fb8-7348-49fd-f7ac-4f1290d6ba8a"
      },
      "execution_count": 3,
      "outputs": [
        {
          "output_type": "stream",
          "name": "stdout",
          "text": [
            "[==================================================] 100.0% 1662.8/1662.8MB downloaded\n"
          ]
        },
        {
          "output_type": "execute_result",
          "data": {
            "text/plain": [
              "[('guarantees', 0.822723925113678),\n",
              " ('guaranteed', 0.7438113689422607),\n",
              " ('guaranteeing', 0.7005587816238403),\n",
              " ('assure', 0.5853263735771179),\n",
              " ('assurances', 0.5550788044929504),\n",
              " ('ensure', 0.5258521437644958),\n",
              " ('Guarantee', 0.5235120058059692),\n",
              " ('assurance', 0.5162608027458191),\n",
              " ('insure', 0.5105894804000854),\n",
              " ('Disclaimer_Past_performance', 0.5068185329437256)]"
            ]
          },
          "metadata": {},
          "execution_count": 3
        }
      ]
    },
    {
      "cell_type": "code",
      "source": [
        "sample.most_similar('warranty')"
      ],
      "metadata": {
        "colab": {
          "base_uri": "https://localhost:8080/"
        },
        "id": "-29xZzfcTAJu",
        "outputId": "d48a535c-1093-4f6e-ec99-f68e29cc446c"
      },
      "execution_count": 4,
      "outputs": [
        {
          "output_type": "execute_result",
          "data": {
            "text/plain": [
              "[('warranties', 0.8235853910446167),\n",
              " ('warrantee', 0.781966507434845),\n",
              " ('Warranty', 0.7335840463638306),\n",
              " ('lifetime_warranty', 0.697948157787323),\n",
              " ('Limited_Warranty', 0.6898940205574036),\n",
              " ('extended_warranties', 0.6476331353187561),\n",
              " ('warrantees', 0.6356005072593689),\n",
              " ('warrenty', 0.6332387924194336),\n",
              " ('five-year/###_,###_mile', 0.6254701018333435),\n",
              " ('Lifetime_Warranty', 0.6205177903175354)]"
            ]
          },
          "metadata": {},
          "execution_count": 4
        }
      ]
    },
    {
      "cell_type": "code",
      "source": [
        "from gensim.models import KeyedVectors\n",
        "from fuzzywuzzy import fuzz\n",
        "\n",
        "\n",
        "keywords = {'warranty', 'guarantee'}\n",
        "\n",
        "def find_similar_words(model, base_words, top_n=20):\n",
        "    similar_words = set()\n",
        "    for word in base_words:\n",
        "        similar_words.update([w for w, _ in model.most_similar(word, topn=top_n)])\n",
        "    return similar_words\n",
        "\n",
        "def find_misspellings(word, vocabulary, threshold=80):\n",
        "    return [vocab_word for vocab_word in vocabulary if fuzz.ratio(word, vocab_word) > threshold]\n",
        "\n",
        "vocabulary = ['warranty', 'guarante', 'garantee', 'warrnty', 'gurantee', 'product', 'policy', 'service', 'coverage']\n",
        "\n",
        "misspelled_words = set()\n",
        "for keyword in keywords:\n",
        "    misspelled_words.update(find_misspellings(keyword, vocabulary))\n",
        "\n",
        "keywords.update(misspelled_words)\n",
        "\n",
        "# Hypothetical review examples\n",
        "reviews = [\n",
        "    \"This product has an excellent warranty!\",\n",
        "    \"I had issues with the guarantee policy.\",\n",
        "    \"Their warrnty service was fast and effective.\",\n",
        "    \"No mention of warranty or guarantee here.\",\n",
        "    \"The gurantee is questionable at best.\"\n",
        "]\n",
        "\n",
        "def filter_reviews(reviews, keywords):\n",
        "    filtered = [review for review in reviews if any(word in review.lower() for word in keywords)]\n",
        "    return filtered\n",
        "\n",
        "filtered_reviews = filter_reviews(reviews, keywords)\n",
        "\n",
        "print(\"Filtered Reviews discussing warranty/guarantee:\")\n",
        "for review in filtered_reviews:\n",
        "    print(f\"- {review}\")\n"
      ],
      "metadata": {
        "colab": {
          "base_uri": "https://localhost:8080/"
        },
        "id": "t3wHiebwXFnP",
        "outputId": "f618d8dc-420b-40c3-f8cf-0e7141829d11"
      },
      "execution_count": 14,
      "outputs": [
        {
          "output_type": "stream",
          "name": "stdout",
          "text": [
            "Filtered Reviews discussing warranty/guarantee:\n",
            "- This product has an excellent warranty!\n",
            "- I had issues with the guarantee policy.\n",
            "- Their warrnty service was fast and effective.\n",
            "- No mention of warranty or guarantee here.\n",
            "- The gurantee is questionable at best.\n"
          ]
        }
      ]
    },
    {
      "cell_type": "markdown",
      "source": [
        "<p dir=rtl style=\"direction: rtl;text-align: justify;line-height:200%;font-family:mitra;font-size:medium\">\n",
        "<font face=\"mitra\" size=3>\n",
        "این روش، روشی تقریبی است که راه حل را نشان می‌دهد. این صرفا مثالی از این روش بود.</font>\n",
        "</p>"
      ],
      "metadata": {
        "id": "isNvoWkEYpsE"
      }
    }
  ]
}